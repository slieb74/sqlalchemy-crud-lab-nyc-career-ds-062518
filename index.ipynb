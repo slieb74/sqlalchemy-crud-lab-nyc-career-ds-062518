{
 "cells": [
  {
   "cell_type": "markdown",
   "metadata": {},
   "source": [
    "# SQLAlchemy CRUD Lab"
   ]
  },
  {
   "cell_type": "markdown",
   "metadata": {},
   "source": [
    "In this lab we will once again use SQLAlchemy to create a database and add a table. We will also work with a session to insert data into the table, update data already on the table, and delete data from the table. By the end of the lab, we will be comfortable using sessions to interact with and make changes to the table in our database."
   ]
  },
  {
   "cell_type": "markdown",
   "metadata": {},
   "source": [
    "### Objective\n",
    "\n",
    "* Become comfortable performing CRUD (Create, Read, Update, Delete) actions with SQLAlchemy"
   ]
  },
  {
   "cell_type": "markdown",
   "metadata": {},
   "source": [
    "### Sessions"
   ]
  },
  {
   "cell_type": "markdown",
   "metadata": {},
   "source": [
    "Recall that the `Session` establishes all communication with the database.  The `Session` object follows the [Unit of Work](https://martinfowler.com/eaaCatalog/unitOfWork.html) pattern for interacting with the database.  It keeps track of all changes separately in an ongoing transaction until we explicitly commit the changes to the database.  In other words, the session logs all the changes we make separately, whether they be table inserts, updates, or deletes, until we tell it to **flush** the session with `session.commit()`."
   ]
  },
  {
   "cell_type": "markdown",
   "metadata": {},
   "source": [
    "As we saw in the previous lab, we create a session by establishing a connection to the database with `create_engine`.\n",
    "\n",
    ">     engine = create_engine('sqlite:///states.db', echo=True)\n",
    "\n",
    "Then we bind our new session to the engine to establish a connection to our database.\n",
    "\n",
    ">     Session = sessionmaker(bind=engine)\n",
    ">     session = Session()\n"
   ]
  },
  {
   "cell_type": "markdown",
   "metadata": {},
   "source": [
    "### Instructions"
   ]
  },
  {
   "cell_type": "markdown",
   "metadata": {},
   "source": [
    "#### Create the table"
   ]
  },
  {
   "cell_type": "markdown",
   "metadata": {},
   "source": [
    "Create the `states` table in the `schema.py` file.  We have provided you with all of the code for configuring the database.  Every state has an `id` (set as the primary key), a `name`, a `capital_city`, a `population`, and a `landlocked` column that holds a boolean for whether the state borders a body of water.\n",
    "\n",
    "Once this task is completed, move onto the `states_controller.py` file.  There is no need to run `python schema.py` in the terminal to create the database and schema since the tests automatically execute this file."
   ]
  },
  {
   "cell_type": "markdown",
   "metadata": {},
   "source": [
    "#### CREATE\n",
    "\n",
    "We will write all of our CRUD actions in the `states_controller.py` file.  We provided the starter code for starting a session in the first method to get you going.\n",
    "\n",
    "* New York\n",
    "    - name: 'New York'\n",
    "    - capital: 'Albany'\n",
    "    - population: 20000000\n",
    "    - landlocked: no\n",
    "    \n",
    "* Wyoming\n",
    "    - name: 'Wyoming'\n",
    "    - capital: 'Cheyenne'\n",
    "    - population: 579315\n",
    "    - landlocked: yes"
   ]
  },
  {
   "cell_type": "markdown",
   "metadata": {},
   "source": [
    "#### READ\n",
    "\n",
    "* Query all states in the database\n",
    "\n",
    "For now, we will just query all the data in our table.  We will explore more advanced queries in a later lesson.  Use `session.query()` and `.all()` to pull everything off of the table and set it to a variable.  Return this variable to get the test to pass."
   ]
  },
  {
   "cell_type": "markdown",
   "metadata": {},
   "source": [
    "#### UPDATE\n",
    "\n",
    "First, uncomment the `create_cali()` function.  \n",
    "\n",
    "Then in the `update_cali()` function:\n",
    "\n",
    "* Find California by using `session.query()` in conjunction with `filter_by`.  You can read about the latter method [here](http://docs.sqlalchemy.org/en/latest/orm/query.html#sqlalchemy.orm.query.Query.filter_by).\n",
    "\n",
    "* Change California's population to 50000000 then commit the update."
   ]
  },
  {
   "cell_type": "markdown",
   "metadata": {},
   "source": [
    "#### DELETE\n",
    "\n",
    "First, uncomment the `create_connecticut()` function.  \n",
    "\n",
    "Then in  the `delete_connecticut()`:\n",
    "\n",
    "* Find the Connecticut object\n",
    "* Delete it from the database "
   ]
  },
  {
   "cell_type": "markdown",
   "metadata": {},
   "source": [
    "### Session Rollbacks"
   ]
  },
  {
   "cell_type": "markdown",
   "metadata": {},
   "source": [
    "Remember if we mistakenly change data during a session, we can rollback the error as long as we haven't already committed those changes to the database.  In the final method, uncomment the code for adding West Dakota to the table.  Write a rollback so that this \"state\" doesn't get added to the database when we commit the session."
   ]
  },
  {
   "cell_type": "markdown",
   "metadata": {},
   "source": [
    "## Summary\n",
    "\n",
    "In this lab, we practiced setting up a connection to our database and creating a session. We then practiced defining CRUD functions that would create, read, update, and delete information from our database. "
   ]
  }
 ],
 "metadata": {
  "kernelspec": {
   "display_name": "Python 3",
   "language": "python",
   "name": "python3"
  },
  "language_info": {
   "codemirror_mode": {
    "name": "ipython",
    "version": 3
   },
   "file_extension": ".py",
   "mimetype": "text/x-python",
   "name": "python",
   "nbconvert_exporter": "python",
   "pygments_lexer": "ipython3",
   "version": "3.6.4"
  }
 },
 "nbformat": 4,
 "nbformat_minor": 2
}
